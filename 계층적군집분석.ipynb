{
 "cells": [
  {
   "cell_type": "code",
   "execution_count": 1,
   "metadata": {},
   "outputs": [],
   "source": [
    "## 계층적 군집분석\n",
    "import pandas as pd; import numpy as np; np.random.seed(42)\n",
    "from matplotlib import pyplot\n",
    "%matplotlib inline\n",
    "import matplotlib as mpl; import matplotlib.pyplot as plt; import matplotlib.font_manager as fm"
   ]
  },
  {
   "cell_type": "code",
   "execution_count": 3,
   "metadata": {},
   "outputs": [
    {
     "data": {
      "text/plain": [
       "array([1, 1, 1, 1, 1, 1, 1, 1], dtype=int32)"
      ]
     },
     "execution_count": 3,
     "metadata": {},
     "output_type": "execute_result"
    },
    {
     "data": {
      "image/png": "[encoded data removed]",
      "text/plain": [
       "<Figure size 720x360 with 1 Axes>"
      ]
     },
     "metadata": {
      "needs_background": "light"
     },
     "output_type": "display_data"
    }
   ],
   "source": [
    "mpl.rcParams['axes.unicode_minus'] = False\n",
    "mpl.rc(\"font\", family = \"Malgun Gothic\")\n",
    "from sklearn.preprocessing import StandardScaler\n",
    "df_raw = pd.read_csv(\"data/final_data.csv\", encoding = \"euc-kr\")\n",
    "x = df_raw.drop([\"행정구역\"], axis=1) # 독립변인 추출\n",
    "df_x = StandardScaler().fit_transform(x) # 설명변수 정규화\n",
    "from scipy.cluster.hierarchy import linkage, dendrogram, fcluster\n",
    "plt.figure(figsize = (10, 5))\n",
    "ax = plt.subplot(111)\n",
    "dendrogram(linkage(df_x, method = \"ward\", metric = \"euclidean\"), labels = \n",
    "df_raw[\"행정구역\"].values, leaf_font_size = 10)\n",
    "plt.title(\"와드연결 Dendrogram\")\n",
    "plt.xlabel(\"distance\")\n",
    "plt.ylabel(\"sample index\")\n",
    "ward_hierarchical_3 = pd.DataFrame(fcluster(Z = linkage(df_x, method = \"ward\", \n",
    "metric = \"euclidean\"), t = 8, criterion = \"distance\"),\n",
    "index = df_raw[\"행정구역\"])\n",
    "ward_hierarchical_3[0].values"
   ]
  },
  {
   "cell_type": "code",
   "execution_count": null,
   "metadata": {},
   "outputs": [],
   "source": []
  }
 ],
 "metadata": {
  "kernelspec": {
   "display_name": "Python 3.8.13 ('conda38')",
   "language": "python",
   "name": "python3"
  },
  "language_info": {
   "codemirror_mode": {
    "name": "ipython",
    "version": 3
   },
   "file_extension": ".py",
   "mimetype": "text/x-python",
   "name": "python",
   "nbconvert_exporter": "python",
   "pygments_lexer": "ipython3",
   "version": "3.8.13"
  },
  "orig_nbformat": 4,
  "vscode": {
   "interpreter": {
    "hash": "3a909b764e5297ab7243911d79b34f3ad584c453baa3fb8c1fea8bd611715306"
   }
  }
 },
 "nbformat": 4,
 "nbformat_minor": 2
}
