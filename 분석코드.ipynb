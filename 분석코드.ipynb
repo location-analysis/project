{
 "cells": [
  {
   "cell_type": "markdown",
   "metadata": {},
   "source": [
    "### 주성분분석"
   ]
  },
  {
   "cell_type": "code",
   "execution_count": 15,
   "metadata": {},
   "outputs": [
    {
     "data": {
      "text/html": [
       "<div>\n",
       "<style scoped>\n",
       "    .dataframe tbody tr th:only-of-type {\n",
       "        vertical-align: middle;\n",
       "    }\n",
       "\n",
       "    .dataframe tbody tr th {\n",
       "        vertical-align: top;\n",
       "    }\n",
       "\n",
       "    .dataframe thead th {\n",
       "        text-align: right;\n",
       "    }\n",
       "</style>\n",
       "<table border=\"1\" class=\"dataframe\">\n",
       "  <thead>\n",
       "    <tr style=\"text-align: right;\">\n",
       "      <th></th>\n",
       "      <th>행정구역</th>\n",
       "      <th>버스정류소 수</th>\n",
       "      <th>총 인구</th>\n",
       "      <th>주차장 수</th>\n",
       "      <th>자전거 수</th>\n",
       "      <th>보관대 수</th>\n",
       "      <th>대학생 수</th>\n",
       "      <th>면적</th>\n",
       "      <th>인구밀도</th>\n",
       "    </tr>\n",
       "  </thead>\n",
       "  <tbody>\n",
       "    <tr>\n",
       "      <th>0</th>\n",
       "      <td>남구</td>\n",
       "      <td>160</td>\n",
       "      <td>143175</td>\n",
       "      <td>2</td>\n",
       "      <td>17</td>\n",
       "      <td>4</td>\n",
       "      <td>9523</td>\n",
       "      <td>17</td>\n",
       "      <td>8422</td>\n",
       "    </tr>\n",
       "    <tr>\n",
       "      <th>1</th>\n",
       "      <td>달서구</td>\n",
       "      <td>561</td>\n",
       "      <td>544926</td>\n",
       "      <td>17</td>\n",
       "      <td>84</td>\n",
       "      <td>24</td>\n",
       "      <td>39597</td>\n",
       "      <td>62</td>\n",
       "      <td>8789</td>\n",
       "    </tr>\n",
       "    <tr>\n",
       "      <th>2</th>\n",
       "      <td>달성군</td>\n",
       "      <td>693</td>\n",
       "      <td>262451</td>\n",
       "      <td>0</td>\n",
       "      <td>30</td>\n",
       "      <td>5</td>\n",
       "      <td>13562</td>\n",
       "      <td>426</td>\n",
       "      <td>616</td>\n",
       "    </tr>\n",
       "    <tr>\n",
       "      <th>3</th>\n",
       "      <td>동구</td>\n",
       "      <td>583</td>\n",
       "      <td>341436</td>\n",
       "      <td>16</td>\n",
       "      <td>91</td>\n",
       "      <td>18</td>\n",
       "      <td>18307</td>\n",
       "      <td>182</td>\n",
       "      <td>1876</td>\n",
       "    </tr>\n",
       "    <tr>\n",
       "      <th>4</th>\n",
       "      <td>북구</td>\n",
       "      <td>588</td>\n",
       "      <td>437008</td>\n",
       "      <td>30</td>\n",
       "      <td>18</td>\n",
       "      <td>3</td>\n",
       "      <td>32156</td>\n",
       "      <td>93</td>\n",
       "      <td>4699</td>\n",
       "    </tr>\n",
       "    <tr>\n",
       "      <th>5</th>\n",
       "      <td>서구</td>\n",
       "      <td>190</td>\n",
       "      <td>164528</td>\n",
       "      <td>5</td>\n",
       "      <td>0</td>\n",
       "      <td>0</td>\n",
       "      <td>9699</td>\n",
       "      <td>62</td>\n",
       "      <td>2653</td>\n",
       "    </tr>\n",
       "    <tr>\n",
       "      <th>6</th>\n",
       "      <td>수성구</td>\n",
       "      <td>418</td>\n",
       "      <td>417097</td>\n",
       "      <td>10</td>\n",
       "      <td>40</td>\n",
       "      <td>13</td>\n",
       "      <td>27436</td>\n",
       "      <td>76</td>\n",
       "      <td>5488</td>\n",
       "    </tr>\n",
       "    <tr>\n",
       "      <th>7</th>\n",
       "      <td>중구</td>\n",
       "      <td>118</td>\n",
       "      <td>74791</td>\n",
       "      <td>6</td>\n",
       "      <td>17</td>\n",
       "      <td>2</td>\n",
       "      <td>4718</td>\n",
       "      <td>7</td>\n",
       "      <td>10684</td>\n",
       "    </tr>\n",
       "  </tbody>\n",
       "</table>\n",
       "</div>"
      ],
      "text/plain": [
       "  행정구역  버스정류소 수    총 인구  주차장 수  자전거 수  보관대 수  대학생 수   면적   인구밀도\n",
       "0   남구      160  143175      2     17      4   9523   17   8422\n",
       "1  달서구      561  544926     17     84     24  39597   62   8789\n",
       "2  달성군      693  262451      0     30      5  13562  426    616\n",
       "3   동구      583  341436     16     91     18  18307  182   1876\n",
       "4   북구      588  437008     30     18      3  32156   93   4699\n",
       "5   서구      190  164528      5      0      0   9699   62   2653\n",
       "6  수성구      418  417097     10     40     13  27436   76   5488\n",
       "7   중구      118   74791      6     17      2   4718    7  10684"
      ]
     },
     "execution_count": 15,
     "metadata": {},
     "output_type": "execute_result"
    }
   ],
   "source": [
    "import pandas as pd\n",
    "data = pd.read_csv('data/final_data.csv',encoding='cp949')\n",
    "data"
   ]
  },
  {
   "cell_type": "code",
   "execution_count": 16,
   "metadata": {},
   "outputs": [],
   "source": [
    "import pandas as pd\n",
    "import numpy as np\n",
    "from sklearn import datasets\n",
    "import matplotlib.pyplot as plt\n",
    "from sklearn.preprocessing import StandardScaler"
   ]
  },
  {
   "cell_type": "code",
   "execution_count": 17,
   "metadata": {},
   "outputs": [
    {
     "data": {
      "text/plain": [
       "Index(['행정구역', '버스정류소 수', '총 인구', '주차장 수', '자전거 수', '보관대 수', '대학생 수', '면적',\n",
       "       '인구밀도'],\n",
       "      dtype='object')"
      ]
     },
     "execution_count": 17,
     "metadata": {},
     "output_type": "execute_result"
    }
   ],
   "source": [
    "data.columns"
   ]
  },
  {
   "cell_type": "code",
   "execution_count": 18,
   "metadata": {},
   "outputs": [],
   "source": [
    "# 1. 데이터 분리\n",
    "lamenEval = data[['버스정류소 수', '총 인구', '주차장 수', '자전거 수', '보관대 수', '대학생 수', '면적','인구밀도']]\n",
    "lamenName = data['행정구역']"
   ]
  },
  {
   "cell_type": "code",
   "execution_count": 19,
   "metadata": {},
   "outputs": [
    {
     "data": {
      "text/plain": [
       "(8, 8)"
      ]
     },
     "execution_count": 19,
     "metadata": {},
     "output_type": "execute_result"
    }
   ],
   "source": [
    "# 2. 스케일러로 값 변환\n",
    "# scaling using StandardScaler\n",
    "\n",
    "scaler = StandardScaler()\n",
    "scaler.fit(lamenEval.values)\n",
    "lamen_scaled = scaler.transform(lamenEval.values)\n",
    "\n",
    "lamen_scaled.shape\n",
    "# (8,8)"
   ]
  },
  {
   "cell_type": "code",
   "execution_count": 20,
   "metadata": {},
   "outputs": [
    {
     "name": "stdout",
     "output_type": "stream",
     "text": [
      "original data : (8, 8)\n",
      "transform data : (8, 8)\n"
     ]
    }
   ],
   "source": [
    "# 3. PCA 모델링\n",
    "# - PCA.fit() : 주성분 찾음\n",
    "# - PCA.transform() : 새로운 주성분으로 데이터 변환\n",
    "\n",
    "# PCA modelling \n",
    "from sklearn.decomposition import PCA\n",
    "\n",
    "pca_lamen = PCA()\n",
    "pca_lamen.fit(lamen_scaled)\n",
    "\n",
    "# data transform\n",
    "X_pca_lamen = pca_lamen.transform(lamen_scaled)\n",
    "\n",
    "# look into data shape\n",
    "print(\"original data : {}\".format(str(lamen_scaled.shape)))\n",
    "print(\"transform data : {}\".format(str(X_pca_lamen.shape)))\n",
    "\n",
    "# original data : (8, 8)  transform data : (8, 8)"
   ]
  },
  {
   "cell_type": "code",
   "execution_count": 21,
   "metadata": {},
   "outputs": [
    {
     "name": "stderr",
     "output_type": "stream",
     "text": [
      "C:\\Users\\dkq50\\AppData\\Local\\Temp\\ipykernel_20940\\725437716.py:15: DeprecationWarning: elementwise comparison failed; this will raise an error in the future.\n",
      "  np.round(np.hstack((pc1,pc2,pc3)),3) == np.round(X_pca_lamen,3)\n"
     ]
    },
    {
     "data": {
      "text/plain": [
       "False"
      ]
     },
     "execution_count": 21,
     "metadata": {},
     "output_type": "execute_result"
    }
   ],
   "source": [
    "# PCA 1,2,3 에 대한 변환 스코어\n",
    "pc1=0\n",
    "pc2=0\n",
    "pc3=0\n",
    "\n",
    "for j in range(len(pca_lamen.components_)):\n",
    "    pc1 += pca_lamen.components_[0][j] * lamen_scaled[:,j] # 계수 3개에 있어서 스케일된 모든 열을 다 곱하고 더한 것 = pc1\n",
    "    pc2 += pca_lamen.components_[1][j] * lamen_scaled[:,j]\n",
    "    pc3 += pca_lamen.components_[2][j] * lamen_scaled[:,j]\n",
    "    \n",
    "pc1 = pc1.reshape(8,1)\n",
    "pc2 = pc2.reshape(8,1)\n",
    "pc3 = pc3.reshape(8,1)\n",
    "\n",
    "np.round(np.hstack((pc1,pc2,pc3)),3) == np.round(X_pca_lamen,3)"
   ]
  },
  {
   "cell_type": "code",
   "execution_count": 22,
   "metadata": {},
   "outputs": [
    {
     "data": {
      "image/png": "[encoded data removed]",
      "text/plain": [
       "<Figure size 432x288 with 1 Axes>"
      ]
     },
     "metadata": {
      "needs_background": "light"
     },
     "output_type": "display_data"
    }
   ],
   "source": [
    "def biplot2(score, coeff, label, pcax, pcay, labels = None):\n",
    "    pca1=pcax-1\n",
    "    pca2=pcay-1\n",
    "    xs = score[:,pca1]\n",
    "    ys = score[:,pca2]\n",
    "    n=score.shape[1]\n",
    "    scalex = 1.0/(xs.max() - xs.min())\n",
    "    scaley = 1.0/(ys.max() - ys.min())\n",
    "    \n",
    "    for i in range(len(xs)):\n",
    "        plt.scatter(xs[i]*scalex, ys[i]*scaley)\n",
    "        plt.annotate(label.iloc[i], xy=(xs[i]*scalex, ys[i]*scaley), ha='right')\n",
    "        \n",
    "    for i in range(n):\n",
    "        plt.arrow(0, 0, coeff[i,pca1], coeff[i,pca2], color='r', alpha=1)\n",
    "        if labels is None:\n",
    "            plt.text(coeff[i,pca1]*1.15, coeff[i,pca2]*1.15, \"Var\"+str(i+1), color='g', ha = 'center', va='center')\n",
    "        else:\n",
    "            plt.text(coeff[i,pca1]*1.15, coeff[i,pca2]*1.15, labels[i], color='g', ha='center', va='center', size=15)\n",
    "    plt.xlim(-0.8, 0.75)\n",
    "    plt.ylim(-1,1)\n",
    "    plt.xlabel(\"PC{}\".format(pcax))\n",
    "    plt.ylabel(\"PC{}\".format(pcay))\n",
    "    plt.grid()\n",
    "       \n",
    "##한글 폰트 설정\n",
    "import matplotlib.pyplot as plt\n",
    "import matplotlib.font_manager as fm\n",
    "\n",
    "font_path=\"C:\\\\Windows\\\\Fonts\\\\malgun.ttf\"\n",
    "font_name=fm.FontProperties(fname=font_path).get_name()\n",
    "plt.rcParams['font.family']=font_name\n",
    "\n",
    "%matplotlib inline\n",
    "biplot2(X_pca_lamen, pca_lamen.components_, lamenName, 1,2,labels=lamenEval.columns)"
   ]
  },
  {
   "cell_type": "code",
   "execution_count": 26,
   "metadata": {},
   "outputs": [],
   "source": [
    "## 라이브러리 import\n",
    "import pandas as pd; import numpy as np; np.random.seed(42)\n",
    "from matplotlib import pyplot\n",
    "%matplotlib inline\n",
    "import matplotlib as mpl; import matplotlib.pyplot as plt; import matplotlib.font_manager as fm\n",
    "mpl.rcParams['axes.unicode_minus'] = False\n",
    "mpl.rc(\"font\", family = \"Malgun Gothic\")\n",
    "from sklearn.preprocessing import StandardScaler"
   ]
  },
  {
   "cell_type": "code",
   "execution_count": 27,
   "metadata": {},
   "outputs": [],
   "source": [
    "## 데이터 전처리\n",
    "x = data.drop([\"행정구역\"], axis=1) # 독립변인 추출\n",
    "df_x = StandardScaler().fit_transform(x) # 설명변수 정규화"
   ]
  },
  {
   "cell_type": "markdown",
   "metadata": {},
   "source": [
    "### 계층적 군집분석"
   ]
  },
  {
   "cell_type": "code",
   "execution_count": 28,
   "metadata": {},
   "outputs": [
    {
     "data": {
      "text/plain": [
       "array([1, 1, 1, 1, 1, 1, 1, 1], dtype=int32)"
      ]
     },
     "execution_count": 28,
     "metadata": {},
     "output_type": "execute_result"
    },
    {
     "data": {
      "image/png": "[encoded data removed]",
      "text/plain": [
       "<Figure size 720x360 with 1 Axes>"
      ]
     },
     "metadata": {
      "needs_background": "light"
     },
     "output_type": "display_data"
    }
   ],
   "source": [
    "from scipy.cluster.hierarchy import linkage, dendrogram, fcluster\n",
    "plt.figure(figsize = (10, 5))\n",
    "ax = plt.subplot(111)\n",
    "dendrogram(linkage(df_x, method = \"ward\", metric = \"euclidean\"), labels = \n",
    "data[\"행정구역\"].values, leaf_font_size = 10)\n",
    "plt.title(\"와드연결 Dendrogram\")\n",
    "plt.xlabel(\"distance\")\n",
    "plt.ylabel(\"sample index\")\n",
    "ward_hierarchical_3 = pd.DataFrame(fcluster(Z = linkage(df_x, method = \"ward\", \n",
    "metric = \"euclidean\"), t = 8, criterion = \"distance\"),\n",
    "index = data[\"행정구역\"])\n",
    "ward_hierarchical_3[0].values"
   ]
  },
  {
   "cell_type": "markdown",
   "metadata": {},
   "source": [
    "### K-Means 군집분석"
   ]
  },
  {
   "cell_type": "code",
   "execution_count": 30,
   "metadata": {},
   "outputs": [],
   "source": [
    "from sklearn.cluster import KMeans"
   ]
  },
  {
   "cell_type": "code",
   "execution_count": 36,
   "metadata": {},
   "outputs": [
    {
     "data": {
      "text/plain": [
       "Text(0, 0.5, 'Sum of squared distance')"
      ]
     },
     "execution_count": 36,
     "metadata": {},
     "output_type": "execute_result"
    },
    {
     "data": {
      "image/png": "[encoded data removed]",
      "text/plain": [
       "<Figure size 720x360 with 1 Axes>"
      ]
     },
     "metadata": {
      "needs_background": "light"
     },
     "output_type": "display_data"
    }
   ],
   "source": [
    "cluster_range = [i+1 for i in range(8)]\n",
    "clus_error = []\n",
    "for i in cluster_range:\n",
    "    clus = KMeans(i)\n",
    "    clus.fit(df_x)\n",
    "    clus_error.append(clus.inertia_)\n",
    "\n",
    "ds_error = pd.DataFrame({\"NumberofCluster\":cluster_range, \"Error\":clus_error})\n",
    "ds_error\n",
    "\n",
    "plt.figure(figsize = (10,5)); plt.plot(ds_error[\"NumberofCluster\"], ds_error[\"Error\"])\n",
    "plt.title(\"Sum of squared distance\"); plt.xlabel(\"Clusters\"); plt.ylabel(\"Sum of squared distance\")"
   ]
  },
  {
   "cell_type": "code",
   "execution_count": 34,
   "metadata": {},
   "outputs": [],
   "source": [
    "from sklearn.decomposition import PCA; import plotly.express as px"
   ]
  },
  {
   "cell_type": "code",
   "execution_count": 38,
   "metadata": {},
   "outputs": [
    {
     "data": {
      "application/vnd.plotly.v1+json": {
       "config": {
        "plotlyServerURL": "https://plot.ly"
       },
       "data": [
        {
         "hovertemplate": "x=%{x}<br>y=%{y}<br>text=%{text}<br>color=%{marker.color}<extra></extra>",
         "legendgroup": "",
         "marker": {
          "color": [
           2,
           0,
           1,
           0,
           0,
           2,
           0,
           2
          ],
          "coloraxis": "coloraxis",
          "symbol": "circle"
         },
         "mode": "markers+text",
         "name": "",
         "orientation": "v",
         "showlegend": false,
         "text": [
          "남구",
          "달서구",
          "달성군",
          "동구",
          "북구",
          "서구",
          "수성구",
          "중구"
         ],
         "type": "scatter",
         "x": [
          -2.2879781549509732,
          3.162797189048405,
          0.03204487951721506,
          1.903180452807635,
          1.373350136381137,
          -2.235847962902022,
          0.8457713297783761,
          -2.7933178696797722
         ],
         "xaxis": "x",
         "y": [
          -0.8250728230894016,
          -1.6359905747759746,
          3.3043799905874756,
          0.8194152189897118,
          -0.36789986687804993,
          0.46663365086039077,
          -0.4810494301549056,
          -1.2804161655392468
         ],
         "yaxis": "y"
        },
        {
         "marker": {
          "color": "LightSeaGreen",
          "size": 10
         },
         "name": "Centers",
         "type": "scatter",
         "x": [
          1.8212747770038882,
          0.03204487951721581,
          -2.4390479958442564
         ],
         "y": [
          -0.4163811632048042,
          3.3043799905874747,
          -0.5462851125894195
         ]
        }
       ],
       "layout": {
        "coloraxis": {
         "colorbar": {
          "title": {
           "text": "color"
          }
         },
         "colorscale": [
          [
           0,
           "#0d0887"
          ],
          [
           0.1111111111111111,
           "#46039f"
          ],
          [
           0.2222222222222222,
           "#7201a8"
          ],
          [
           0.3333333333333333,
           "#9c179e"
          ],
          [
           0.4444444444444444,
           "#bd3786"
          ],
          [
           0.5555555555555556,
           "#d8576b"
          ],
          [
           0.6666666666666666,
           "#ed7953"
          ],
          [
           0.7777777777777778,
           "#fb9f3a"
          ],
          [
           0.8888888888888888,
           "#fdca26"
          ],
          [
           1,
           "#f0f921"
          ]
         ]
        },
        "legend": {
         "tracegroupgap": 0
        },
        "template": {
         "data": {
          "bar": [
           {
            "error_x": {
             "color": "#2a3f5f"
            },
            "error_y": {
             "color": "#2a3f5f"
            },
            "marker": {
             "line": {
              "color": "#E5ECF6",
              "width": 0.5
             },
             "pattern": {
              "fillmode": "overlay",
              "size": 10,
              "solidity": 0.2
             }
            },
            "type": "bar"
           }
          ],
          "barpolar": [
           {
            "marker": {
             "line": {
              "color": "#E5ECF6",
              "width": 0.5
             },
             "pattern": {
              "fillmode": "overlay",
              "size": 10,
              "solidity": 0.2
             }
            },
            "type": "barpolar"
           }
          ],
          "carpet": [
           {
            "aaxis": {
             "endlinecolor": "#2a3f5f",
             "gridcolor": "white",
             "linecolor": "white",
             "minorgridcolor": "white",
             "startlinecolor": "#2a3f5f"
            },
            "baxis": {
             "endlinecolor": "#2a3f5f",
             "gridcolor": "white",
             "linecolor": "white",
             "minorgridcolor": "white",
             "startlinecolor": "#2a3f5f"
            },
            "type": "carpet"
           }
          ],
          "choropleth": [
           {
            "colorbar": {
             "outlinewidth": 0,
             "ticks": ""
            },
            "type": "choropleth"
           }
          ],
          "contour": [
           {
            "colorbar": {
             "outlinewidth": 0,
             "ticks": ""
            },
            "colorscale": [
             [
              0,
              "#0d0887"
             ],
             [
              0.1111111111111111,
              "#46039f"
             ],
             [
              0.2222222222222222,
              "#7201a8"
             ],
             [
              0.3333333333333333,
              "#9c179e"
             ],
             [
              0.4444444444444444,
              "#bd3786"
             ],
             [
              0.5555555555555556,
              "#d8576b"
             ],
             [
              0.6666666666666666,
              "#ed7953"
             ],
             [
              0.7777777777777778,
              "#fb9f3a"
             ],
             [
              0.8888888888888888,
              "#fdca26"
             ],
             [
              1,
              "#f0f921"
             ]
            ],
            "type": "contour"
           }
          ],
          "contourcarpet": [
           {
            "colorbar": {
             "outlinewidth": 0,
             "ticks": ""
            },
            "type": "contourcarpet"
           }
          ],
          "heatmap": [
           {
            "colorbar": {
             "outlinewidth": 0,
             "ticks": ""
            },
            "colorscale": [
             [
              0,
              "#0d0887"
             ],
             [
              0.1111111111111111,
              "#46039f"
             ],
             [
              0.2222222222222222,
              "#7201a8"
             ],
             [
              0.3333333333333333,
              "#9c179e"
             ],
             [
              0.4444444444444444,
              "#bd3786"
             ],
             [
              0.5555555555555556,
              "#d8576b"
             ],
             [
              0.6666666666666666,
              "#ed7953"
             ],
             [
              0.7777777777777778,
              "#fb9f3a"
             ],
             [
              0.8888888888888888,
              "#fdca26"
             ],
             [
              1,
              "#f0f921"
             ]
            ],
            "type": "heatmap"
           }
          ],
          "heatmapgl": [
           {
            "colorbar": {
             "outlinewidth": 0,
             "ticks": ""
            },
            "colorscale": [
             [
              0,
              "#0d0887"
             ],
             [
              0.1111111111111111,
              "#46039f"
             ],
             [
              0.2222222222222222,
              "#7201a8"
             ],
             [
              0.3333333333333333,
              "#9c179e"
             ],
             [
              0.4444444444444444,
              "#bd3786"
             ],
             [
              0.5555555555555556,
              "#d8576b"
             ],
             [
              0.6666666666666666,
              "#ed7953"
             ],
             [
              0.7777777777777778,
              "#fb9f3a"
             ],
             [
              0.8888888888888888,
              "#fdca26"
             ],
             [
              1,
              "#f0f921"
             ]
            ],
            "type": "heatmapgl"
           }
          ],
          "histogram": [
           {
            "marker": {
             "pattern": {
              "fillmode": "overlay",
              "size": 10,
              "solidity": 0.2
             }
            },
            "type": "histogram"
           }
          ],
          "histogram2d": [
           {
            "colorbar": {
             "outlinewidth": 0,
             "ticks": ""
            },
            "colorscale": [
             [
              0,
              "#0d0887"
             ],
             [
              0.1111111111111111,
              "#46039f"
             ],
             [
              0.2222222222222222,
              "#7201a8"
             ],
             [
              0.3333333333333333,
              "#9c179e"
             ],
             [
              0.4444444444444444,
              "#bd3786"
             ],
             [
              0.5555555555555556,
              "#d8576b"
             ],
             [
              0.6666666666666666,
              "#ed7953"
             ],
             [
              0.7777777777777778,
              "#fb9f3a"
             ],
             [
              0.8888888888888888,
              "#fdca26"
             ],
             [
              1,
              "#f0f921"
             ]
            ],
            "type": "histogram2d"
           }
          ],
          "histogram2dcontour": [
           {
            "colorbar": {
             "outlinewidth": 0,
             "ticks": ""
            },
            "colorscale": [
             [
              0,
              "#0d0887"
             ],
             [
              0.1111111111111111,
              "#46039f"
             ],
             [
              0.2222222222222222,
              "#7201a8"
             ],
             [
              0.3333333333333333,
              "#9c179e"
             ],
             [
              0.4444444444444444,
              "#bd3786"
             ],
             [
              0.5555555555555556,
              "#d8576b"
             ],
             [
              0.6666666666666666,
              "#ed7953"
             ],
             [
              0.7777777777777778,
              "#fb9f3a"
             ],
             [
              0.8888888888888888,
              "#fdca26"
             ],
             [
              1,
              "#f0f921"
             ]
            ],
            "type": "histogram2dcontour"
           }
          ],
          "mesh3d": [
           {
            "colorbar": {
             "outlinewidth": 0,
             "ticks": ""
            },
            "type": "mesh3d"
           }
          ],
          "parcoords": [
           {
            "line": {
             "colorbar": {
              "outlinewidth": 0,
              "ticks": ""
             }
            },
            "type": "parcoords"
           }
          ],
          "pie": [
           {
            "automargin": true,
            "type": "pie"
           }
          ],
          "scatter": [
           {
            "fillpattern": {
             "fillmode": "overlay",
             "size": 10,
             "solidity": 0.2
            },
            "type": "scatter"
           }
          ],
          "scatter3d": [
           {
            "line": {
             "colorbar": {
              "outlinewidth": 0,
              "ticks": ""
             }
            },
            "marker": {
             "colorbar": {
              "outlinewidth": 0,
              "ticks": ""
             }
            },
            "type": "scatter3d"
           }
          ],
          "scattercarpet": [
           {
            "marker": {
             "colorbar": {
              "outlinewidth": 0,
              "ticks": ""
             }
            },
            "type": "scattercarpet"
           }
          ],
          "scattergeo": [
           {
            "marker": {
             "colorbar": {
              "outlinewidth": 0,
              "ticks": ""
             }
            },
            "type": "scattergeo"
           }
          ],
          "scattergl": [
           {
            "marker": {
             "colorbar": {
              "outlinewidth": 0,
              "ticks": ""
             }
            },
            "type": "scattergl"
           }
          ],
          "scattermapbox": [
           {
            "marker": {
             "colorbar": {
              "outlinewidth": 0,
              "ticks": ""
             }
            },
            "type": "scattermapbox"
           }
          ],
          "scatterpolar": [
           {
            "marker": {
             "colorbar": {
              "outlinewidth": 0,
              "ticks": ""
             }
            },
            "type": "scatterpolar"
           }
          ],
          "scatterpolargl": [
           {
            "marker": {
             "colorbar": {
              "outlinewidth": 0,
              "ticks": ""
             }
            },
            "type": "scatterpolargl"
           }
          ],
          "scatterternary": [
           {
            "marker": {
             "colorbar": {
              "outlinewidth": 0,
              "ticks": ""
             }
            },
            "type": "scatterternary"
           }
          ],
          "surface": [
           {
            "colorbar": {
             "outlinewidth": 0,
             "ticks": ""
            },
            "colorscale": [
             [
              0,
              "#0d0887"
             ],
             [
              0.1111111111111111,
              "#46039f"
             ],
             [
              0.2222222222222222,
              "#7201a8"
             ],
             [
              0.3333333333333333,
              "#9c179e"
             ],
             [
              0.4444444444444444,
              "#bd3786"
             ],
             [
              0.5555555555555556,
              "#d8576b"
             ],
             [
              0.6666666666666666,
              "#ed7953"
             ],
             [
              0.7777777777777778,
              "#fb9f3a"
             ],
             [
              0.8888888888888888,
              "#fdca26"
             ],
             [
              1,
              "#f0f921"
             ]
            ],
            "type": "surface"
           }
          ],
          "table": [
           {
            "cells": {
             "fill": {
              "color": "#EBF0F8"
             },
             "line": {
              "color": "white"
             }
            },
            "header": {
             "fill": {
              "color": "#C8D4E3"
             },
             "line": {
              "color": "white"
             }
            },
            "type": "table"
           }
          ]
         },
         "layout": {
          "annotationdefaults": {
           "arrowcolor": "#2a3f5f",
           "arrowhead": 0,
           "arrowwidth": 1
          },
          "autotypenumbers": "strict",
          "coloraxis": {
           "colorbar": {
            "outlinewidth": 0,
            "ticks": ""
           }
          },
          "colorscale": {
           "diverging": [
            [
             0,
             "#8e0152"
            ],
            [
             0.1,
             "#c51b7d"
            ],
            [
             0.2,
             "#de77ae"
            ],
            [
             0.3,
             "#f1b6da"
            ],
            [
             0.4,
             "#fde0ef"
            ],
            [
             0.5,
             "#f7f7f7"
            ],
            [
             0.6,
             "#e6f5d0"
            ],
            [
             0.7,
             "#b8e186"
            ],
            [
             0.8,
             "#7fbc41"
            ],
            [
             0.9,
             "#4d9221"
            ],
            [
             1,
             "#276419"
            ]
           ],
           "sequential": [
            [
             0,
             "#0d0887"
            ],
            [
             0.1111111111111111,
             "#46039f"
            ],
            [
             0.2222222222222222,
             "#7201a8"
            ],
            [
             0.3333333333333333,
             "#9c179e"
            ],
            [
             0.4444444444444444,
             "#bd3786"
            ],
            [
             0.5555555555555556,
             "#d8576b"
            ],
            [
             0.6666666666666666,
             "#ed7953"
            ],
            [
             0.7777777777777778,
             "#fb9f3a"
            ],
            [
             0.8888888888888888,
             "#fdca26"
            ],
            [
             1,
             "#f0f921"
            ]
           ],
           "sequentialminus": [
            [
             0,
             "#0d0887"
            ],
            [
             0.1111111111111111,
             "#46039f"
            ],
            [
             0.2222222222222222,
             "#7201a8"
            ],
            [
             0.3333333333333333,
             "#9c179e"
            ],
            [
             0.4444444444444444,
             "#bd3786"
            ],
            [
             0.5555555555555556,
             "#d8576b"
            ],
            [
             0.6666666666666666,
             "#ed7953"
            ],
            [
             0.7777777777777778,
             "#fb9f3a"
            ],
            [
             0.8888888888888888,
             "#fdca26"
            ],
            [
             1,
             "#f0f921"
            ]
           ]
          },
          "colorway": [
           "#636efa",
           "#EF553B",
           "#00cc96",
           "#ab63fa",
           "#FFA15A",
           "#19d3f3",
           "#FF6692",
           "#B6E880",
           "#FF97FF",
           "#FECB52"
          ],
          "font": {
           "color": "#2a3f5f"
          },
          "geo": {
           "bgcolor": "white",
           "lakecolor": "white",
           "landcolor": "#E5ECF6",
           "showlakes": true,
           "showland": true,
           "subunitcolor": "white"
          },
          "hoverlabel": {
           "align": "left"
          },
          "hovermode": "closest",
          "mapbox": {
           "style": "light"
          },
          "paper_bgcolor": "white",
          "plot_bgcolor": "#E5ECF6",
          "polar": {
           "angularaxis": {
            "gridcolor": "white",
            "linecolor": "white",
            "ticks": ""
           },
           "bgcolor": "#E5ECF6",
           "radialaxis": {
            "gridcolor": "white",
            "linecolor": "white",
            "ticks": ""
           }
          },
          "scene": {
           "xaxis": {
            "backgroundcolor": "#E5ECF6",
            "gridcolor": "white",
            "gridwidth": 2,
            "linecolor": "white",
            "showbackground": true,
            "ticks": "",
            "zerolinecolor": "white"
           },
           "yaxis": {
            "backgroundcolor": "#E5ECF6",
            "gridcolor": "white",
            "gridwidth": 2,
            "linecolor": "white",
            "showbackground": true,
            "ticks": "",
            "zerolinecolor": "white"
           },
           "zaxis": {
            "backgroundcolor": "#E5ECF6",
            "gridcolor": "white",
            "gridwidth": 2,
            "linecolor": "white",
            "showbackground": true,
            "ticks": "",
            "zerolinecolor": "white"
           }
          },
          "shapedefaults": {
           "line": {
            "color": "#2a3f5f"
           }
          },
          "ternary": {
           "aaxis": {
            "gridcolor": "white",
            "linecolor": "white",
            "ticks": ""
           },
           "baxis": {
            "gridcolor": "white",
            "linecolor": "white",
            "ticks": ""
           },
           "bgcolor": "#E5ECF6",
           "caxis": {
            "gridcolor": "white",
            "linecolor": "white",
            "ticks": ""
           }
          },
          "title": {
           "x": 0.05
          },
          "xaxis": {
           "automargin": true,
           "gridcolor": "white",
           "linecolor": "white",
           "ticks": "",
           "title": {
            "standoff": 15
           },
           "zerolinecolor": "white",
           "zerolinewidth": 2
          },
          "yaxis": {
           "automargin": true,
           "gridcolor": "white",
           "linecolor": "white",
           "ticks": "",
           "title": {
            "standoff": 15
           },
           "zerolinecolor": "white",
           "zerolinewidth": 2
          }
         }
        },
        "title": {
         "text": "K-Means"
        },
        "xaxis": {
         "anchor": "y",
         "domain": [
          0,
          1
         ],
         "title": {
          "text": "x"
         }
        },
        "yaxis": {
         "anchor": "x",
         "domain": [
          0,
          1
         ],
         "title": {
          "text": "y"
         }
        }
       }
      }
     },
     "metadata": {},
     "output_type": "display_data"
    }
   ],
   "source": [
    "kmeans_model = KMeans(n_clusters = 3, random_state = 42)\n",
    "y_km= kmeans_model.fit_predict(df_x)\n",
    "pca_model= PCA(n_components=2, random_state=42)\n",
    "transformed= pca_model.fit_transform(df_x)\n",
    "centers= pca_model.transform(kmeans_model.cluster_centers_)\n",
    "fig = px.scatter(x = transformed[:, 0], y = transformed[:, 1], color = y_km, \n",
    "text=data[\"행정구역\"], title = \"K-Means\")\n",
    "fig.add_scatter(x=centers[:, 0], y=centers[:, 1], marker=dict(size=10, \n",
    "color=\"LightSeaGreen\"), name=\"Centers\")\n",
    "fig.show()"
   ]
  },
  {
   "cell_type": "markdown",
   "metadata": {},
   "source": [
    "### 가우시안 혼합모델"
   ]
  },
  {
   "cell_type": "code",
   "execution_count": 39,
   "metadata": {},
   "outputs": [],
   "source": [
    "import numpy as np\n",
    "import matplotlib.pyplot as plt\n",
    "from matplotlib import patches\n",
    "from sklearn.mixture import GaussianMixture\n",
    "from sklearn.model_selection import cross_validate\n",
    "from sklearn.model_selection import StratifiedKFold\n",
    "from sklearn.model_selection import KFold\n",
    "import pandas as pd"
   ]
  },
  {
   "cell_type": "code",
   "execution_count": 42,
   "metadata": {},
   "outputs": [
    {
     "name": "stdout",
     "output_type": "stream",
     "text": [
      "TRAIN: [2 3 4 5 6 7] TEST: [0 1]\n",
      "TRAIN: [0 1 4 5 6 7] TEST: [2 3]\n",
      "TRAIN: [0 1 2 3 6 7] TEST: [4 5]\n",
      "TRAIN: [0 1 2 3 4 5 7] TEST: [6]\n",
      "TRAIN: [0 1 2 3 4 5 6] TEST: [7]\n"
     ]
    }
   ],
   "source": [
    "csv = data\n",
    "df = pd.DataFrame(csv)\n",
    "X = df.iloc[:, 1:-1]\n",
    "indices = KFold(n_splits = 5)\n",
    "for train_index, test_index in indices.split(X):\n",
    "    print(\"TRAIN:\", train_index, \"TEST:\", test_index)\n",
    "    X_train, X_test = X.iloc[train_index], X.iloc[test_index]\n",
    "    Y_train, Y_test = X.iloc[train_index], X.iloc[test_index]"
   ]
  },
  {
   "cell_type": "code",
   "execution_count": 43,
   "metadata": {},
   "outputs": [
    {
     "data": {
      "image/png": "[encoded data removed]",
      "text/plain": [
       "<Figure size 1080x720 with 1 Axes>"
      ]
     },
     "metadata": {
      "needs_background": "light"
     },
     "output_type": "display_data"
    }
   ],
   "source": [
    "num_classes = len(np.unique(Y_train))\n",
    "classifier = GaussianMixture(n_components = 3, covariance_type = \"full\", reg_covar = 1e-5)\n",
    "classifier.means_ = np.array([X_train[Y_train == i].mean(axis = 0) for i in \n",
    "range(num_classes)])\n",
    "classifier.fit(X)\n",
    "gmm_cluster_labels = classifier.predict(X)\n",
    "probs = classifier.predict_proba(X)\n",
    "X['gmm_cluster'] = gmm_cluster_labels\n",
    "import matplotlib\n",
    "from matplotlib import font_manager, rc\n",
    "import platform\n",
    "import matplotlib.pyplot as plt\n",
    "import matplotlib.ticker as ticker\n",
    "if platform.system() == 'Windows':\n",
    "    font_name = font_manager.FontProperties(fname=\"c:/Windows/Fonts/malgun.ttf\").get_name()\n",
    "    rc('font', family=font_name)\n",
    "else:\n",
    "    rc('font', family='AppleGothic')\n",
    "\n",
    "matplotlib.rcParams['axes.unicode_minus'] = False\n",
    "\n",
    "from sklearn.decomposition import PCA\n",
    "\n",
    "pca = PCA(n_components = 2)\n",
    "pca_transformed = pca.fit_transform(X)\n",
    "x = pca_transformed[:,0]\n",
    "y = pca_transformed[:,1]\n",
    "annotations = df.iloc[:,0]\n",
    "plt.figure(figsize=(15, 10))\n",
    "plt.grid()\n",
    "plt.scatter(x, y, c = gmm_cluster_labels, s =120, cmap = 'viridis')\n",
    "\n",
    "for i, label in enumerate(annotations):\n",
    "    plt.annotate(label, (x[i], y[i]), fontsize=20)\n",
    "\n",
    "plt.xlabel('Dim 1')\n",
    "plt.ylabel('Dim 2')\n",
    "plt.title('GMM', fontsize = 20)\n",
    "plt.show()\n"
   ]
  },
  {
   "cell_type": "markdown",
   "metadata": {},
   "source": [
    "LSCP & MCLP"
   ]
  },
  {
   "cell_type": "code",
   "execution_count": 45,
   "metadata": {},
   "outputs": [
    {
     "ename": "IndentationError",
     "evalue": "expected an indented block (2759533.py, line 4)",
     "output_type": "error",
     "traceback": [
      "\u001b[1;36m  Input \u001b[1;32mIn [45]\u001b[1;36m\u001b[0m\n\u001b[1;33m    self.name = name\u001b[0m\n\u001b[1;37m    ^\u001b[0m\n\u001b[1;31mIndentationError\u001b[0m\u001b[1;31m:\u001b[0m expected an indented block\n"
     ]
    }
   ],
   "source": [
    "class FacilityLocationModel:\n",
    "    def __init__(self, name, ai=None, cij=None, s=None, p=None, write_lp=None, print_sol=True):\n",
    "    # Set model information\n",
    "    self.name = name\n",
    "    # create a solver instance\n",
    "    solver_instance = pywraplp.Solver.CBC_MIXED_INTEGER_PROGRAMMING\n",
    "    # instantiate a model\n",
    "    self.model = pywraplp.Solver(self.name, solver_instance)\n",
    "    # Set parameters and indices\n",
    "    # facility parameter\n",
    "    if p:\n",
    "    self.p = p\n",
    "    # client count and range\n",
    "    self.cij = cij\n",
    "    self.n_cli = cij.shape[0]\n",
    "    self.r_cli = range(self.n_cli)\n",
    "    # facility count and range\n",
    "    self.n_fac = self.cij.shape[1]\n",
    "    self.r_fac = range(self.n_fac)\n",
    "    # demand parameter\n",
    "    if ai is not None:\n",
    "        self.ai = ai\n",
    "        self.ai_sum = ai.sum()\n",
    "        # weighted demand\n",
    "    try:\n",
    "    self.sij = self.ai * self.cij\n",
    "    except ValueError:\n",
    "    self.ai = self.ai.values.reshape(self.n_cli, 1)\n",
    "    self.sij = self.ai * self.cij\n",
    "# if the model has a service radius parameter\n",
    "    if s:\n",
    "        self.s = s\n",
    "        # binary coverage matrix from cij\n",
    "        self.aij = numpy.zeros(self.cij.shape)\n",
    "        self.aij[self.cij <= self.s] = 1.0\n",
    "    try:\n",
    "        getattr(self, \"build_\" + self.name)()\n",
    "    except:\n",
    "        raise AttributeError(self.name, \"not a defined location model.\")\n",
    "    # solve\n",
    "    self.optimize(write_lp=write_lp)\n",
    "    # records seleted decision variables\n",
    "    self.record_decisions()\n",
    "    # record non-objective values stats (eg. percent covered)\n",
    "    self.non_obj_vals()\n",
    "    # print results\n",
    "    if print_sol:\n",
    "        self.print_results()\n",
    "    \n",
    "    \n",
    "    \n",
    "    \n",
    "    \n",
    "    \n",
    "    \n"
   ]
  },
  {
   "cell_type": "code",
   "execution_count": null,
   "metadata": {},
   "outputs": [],
   "source": [
    "def build_lscp(self):\n",
    "        # Decision Variables\n",
    "        self.add_vars()\n",
    "        # Constraints\n",
    "        self.add_constrs(constr=1) # set coverage constraints\n",
    "        # Objective Function\n",
    "        self.add_obj()"
   ]
  },
  {
   "cell_type": "code",
   "execution_count": null,
   "metadata": {},
   "outputs": [],
   "source": [
    "def build_pmp(self):\n",
    "        # Decision Variables\n",
    "        self.add_vars()\n",
    "        # Constraints\n",
    "        self.add_constrs(constr=2) # assignment constraints\n",
    "        self.add_constrs(constr=3) # facility constraint\n",
    "        self.add_constrs(constr=4) # opening constraints\n",
    "        # Objective Function\n",
    "        self.add_obj()"
   ]
  },
  {
   "cell_type": "code",
   "execution_count": null,
   "metadata": {},
   "outputs": [],
   "source": [
    "def build_pcp(self):\n",
    "        # Decision Variables\n",
    "        self.add_vars()\n",
    "        # Constraints\n",
    "        self.add_constrs(constr=2) # assignment constraints\n",
    "        self.add_constrs(constr=3) # facility constraint\n",
    "        self.add_constrs(constr=4) # opening constraints\n",
    "        self.add_constrs(constr=5) # minimized maximum constraints\n",
    "        # Objective Function\n",
    "        self.add_obj()"
   ]
  },
  {
   "cell_type": "code",
   "execution_count": null,
   "metadata": {},
   "outputs": [],
   "source": [
    "def build_mclp(self):\n",
    "        # Decision Variables\n",
    "    self.add_vars()\n",
    "    # Constraints\n",
    "    self.add_constrs(constr=3) # facility constraint\n",
    "    self.add_constrs(constr=6) # maximal coverage constraints\n",
    "    # Objective Function\n",
    "    self.add_obj()"
   ]
  },
  {
   "cell_type": "code",
   "execution_count": null,
   "metadata": {},
   "outputs": [],
   "source": [
    "def add_vars(self):\n",
    "    # facility decision variables\n",
    "    self.fac_vars = {j: self.model.IntVar(0, 1, \"y[%i]\" % (j)) for j in self.r_fac}\n",
    "    # client decision variables\n",
    "    if self.name == \"mclp\":\n",
    "        self.cli_vars = {\n",
    "        (i): self.model.IntVar(0, 1, \"x[%i]\" % (i)) for i in self.r_cli\n",
    "        }\n",
    "    if self.name == \"pmp\" or self.name == \"pcp\":\n",
    "        self.cli_vars = {\n",
    "        (i, j): self.model.IntVar(0, 1, \"x[%i,%i]\" % (i, j))\n",
    "        for i in self.r_cli\n",
    "        for j in self.r_fac\n",
    "        }\n",
    "    # minimized maximum variable\n",
    "    if self.name == \"pcp\":\n",
    "        self.W = self.model.NumVar(0, self.model.infinity(), \"W\")"
   ]
  },
  {
   "cell_type": "code",
   "execution_count": null,
   "metadata": {},
   "outputs": [],
   "source": [
    "def add_constrs(self, constr=None):\n",
    "    # 1 - set covering constraints\n",
    "    if constr == 1:\n",
    "        for i in self.r_cli:\n",
    "            self.model.Add(\n",
    "            self.model.Sum(\n",
    "            [self.aij[i, j] * self.fac_vars[j] for j in self.r_fac]\n",
    "            )\n",
    "            >= 1\n",
    "        )\n",
    "    # 2 - assignment constraints\n",
    "    elif constr == 2:\n",
    "    for i in self.r_cli:\n",
    "        self.model.Add(\n",
    "            self.model.Sum([self.cli_vars[i, j] for j in self.r_fac]) == 1\n",
    "        )\n",
    "    # 3 - facility constraint\n",
    "    elif constr == 3:\n",
    "        self.model.Add(\n",
    "            self.model.Sum([self.fac_vars[j] for j in self.r_fac]) == self.p\n",
    "        )\n",
    "    # 4 - opening constraints\n",
    "    elif constr == 4:\n",
    "        for i in self.r_cli:\n",
    "            for j in self.r_fac:\n",
    "                self.model.Add(self.fac_vars[j] - self.cli_vars[i, j] >= 0)\n",
    "    # 5 - minimax constraints\n",
    "    elif constr == 5:\n",
    "        for i in self.r_cli:\n",
    "            self.model.Add(\n",
    "                self.model.Sum(\n",
    "                    [self.cij[i, j] * self.cli_vars[i, j] for j in self.r_fac]\n",
    "                )\n",
    "                <= self.W\n",
    "             )\n",
    "    # 6 - max coverage constraints\n",
    "    elif constr == 6:\n",
    "        for i in self.r_cli:\n",
    "            self.model.Add(\n",
    "            self.model.Sum(\n",
    "                [self.aij[i, j] * self.fac_vars[j] for j in self.r_fac]\n",
    "             )\n",
    "             >= self.cli_vars[i]\n",
    "        )"
   ]
  },
  {
   "cell_type": "code",
   "execution_count": null,
   "metadata": {},
   "outputs": [],
   "source": [
    "def add_obj(self):\n",
    "    \"\"\"Add an objective function to a model.\"\"\"\n",
    "    if self.name == \"lscp\":\n",
    "        self.model.Minimize(self.model.Sum([self.fac_vars[j] for j in self.r_fac]))\n",
    "    elif self.name == \"pmp\":\n",
    "        obj = [\n",
    "            self.sij[i, j] * self.cli_vars[i, j]\n",
    "            for i in self.r_cli\n",
    "            for j in self.r_fac\n",
    "        ]\n",
    "        self.model.Minimize(self.model.Sum(obj))\n",
    "    elif self.name == \"pcp\":\n",
    "        self.model.Minimize(self.W)\n",
    "    elif self.name == \"mclp\":\n",
    "        obj = [self.ai.flatten()[i] * self.cli_vars[i] for i in self.r_cli]\n",
    "        self.model.Maximize(self.model.Sum(obj))"
   ]
  },
  {
   "cell_type": "code",
   "execution_count": 46,
   "metadata": {},
   "outputs": [],
   "source": [
    "def optimize(self, write_lp=False):\n",
    "    def _redirect_to_file(self, text):\n",
    "        original = sys.stdout\n",
    "        sys.stdout = open(self.name + \".lp\", \"w\")\n",
    "        print(text)\n",
    "        sys.stdout = original\n",
    "    self.model.Solve()\n",
    "    # linear programming formulation\n",
    "    if write_lp:\n",
    "        self.lp_formulation = self.model.ExportModelAsLpFormat(True)\n",
    "        self._redirect_to_file(self.lp_formulation)\n",
    "    # WallTime() in milliseconds\n",
    "    self.solve_minutes = self.model.WallTime() * 1.66667e-5\n",
    "    self.obj_val = self.model.Objective().Value()"
   ]
  },
  {
   "cell_type": "code",
   "execution_count": null,
   "metadata": {},
   "outputs": [],
   "source": [
    "def record_decisions(self):\n",
    "    \"\"\"Record decision variable relationship folowing optimization.\"\"\"\n",
    "    # facility-to-dataframe index location lookup\n",
    "    self.fac2iloc = {v.name(): k for k, v in self.fac_vars.items()}\n",
    "    # client-to-dataframe index location lookup\n",
    "    self.cli2iloc = {}\n",
    "    # facility-to-client lookup\n",
    "    self.fac2cli = {}\n",
    "    for j in self.r_fac:\n",
    "        if self.fac_vars[j].solution_value() > 0:\n",
    "            jvar = self.fac_vars[j].name()\n",
    "            self.fac2cli[jvar] = []\n",
    "        for i in self.r_cli:\n",
    "            ivar = None\n",
    "            if self.name == \"lscp\":\n",
    "                if self.aij[i, j] > 0:\n",
    "                    ivar = \"x[%i]\" % i\n",
    "                    self.fac2cli[jvar].append(ivar)\n",
    "            elif self.name == \"mclp\":\n",
    "                if self.cli_vars[i].solution_value() > 0:\n",
    "                    if self.aij[i, j] > 0:\n",
    "                        ivar = self.cli_vars[i].name()\n",
    "                        self.fac2cli[jvar].append(ivar)\n",
    "                    else:\n",
    "                        if self.cli_vars[i, j].solution_value() > 0:\n",
    "                            ivar = self.cli_vars[i, j].name()\n",
    "                            ivar = ivar.split(\",\")[0] + \"]\"\n",
    "                            self.fac2cli[jvar].append(ivar)\n",
    "                    if ivar:\n",
    "                        self.cli2iloc[ivar] = i\n",
    "                self.cli2fac = {}\n",
    "                for cv in list(self.cli2iloc.keys()):\n",
    "                    self.cli2fac[cv] = []\n",
    "                    for k, v in self.fac2cli.items():\n",
    "                        if cv in v:\n",
    "                            self.cli2fac[cv].append(k)\n",
    "                self.n_cli_uncov = self.n_cli - len(self.cli2iloc.keys())\n",
    "                if self.name == \"lscp\" or self.name == \"mclp\":\n",
    "                    self.cli2ncov = {}\n",
    "                    for c, fs in self.cli2fac.items():\n",
    "                        self.cli2ncov[c] = len(fs)\n",
    "                    most_coverage = max(self.cli2ncov.values())\n",
    "                    self.ncov2ncli = {}\n",
    "                    for cov_count in range(most_coverage + 1):\n",
    "                        if cov_count == 0:\n",
    "                            self.ncov2ncli[cov_count] = self.n_cli_uncov\n",
    "                            continue\n",
    "                    if not cov_count in list(self.cli2ncov.keys()):\n",
    "                        self.ncov2ncli[cov_count] = 0\n",
    "                    for c, ncov in self.cli2ncov.items():\n",
    "                        if ncov >= cov_count:\n",
    "                            self.ncov2ncli[cov_count] += 1\n"
   ]
  },
  {
   "cell_type": "code",
   "execution_count": null,
   "metadata": {},
   "outputs": [],
   "source": [
    "def non_obj_vals(self):\n",
    "    if self.name == \"pmp\":\n",
    "        self.mean_dist = self.obj_val / float(self.ai_sum)\n",
    "    if self.name == \"mclp\":\n",
    "        self.perc_served = (self.obj_val / float(self.ai_sum)) * 100.0"
   ]
  },
  {
   "cell_type": "code",
   "execution_count": null,
   "metadata": {},
   "outputs": [],
   "source": [
    "def print_results(self):\n",
    "    print(\"Solve Time:\", self.solve_minutes, \"minutes\")\n",
    "    if self.name == \"lscp\":\n",
    "        u1 = \"facilities needed for total coverage within a \"\n",
    "        u2 = \"%f meter service radius\" % self.s\n",
    "    if self.name == \"pmp\":\n",
    "        u1 = \"total weighted distance with \"\n",
    "        u2 = \"%i selected facilities\" % self.p\n",
    "    if self.name == \"pcp\":\n",
    "        u1 = \"worst case distance with \"\n",
    "        u2 = \"%i selected facilities\" % self.p\n",
    "    if self.name == \"mclp\":\n",
    "        u1 = \"residents within %f meters of \" % self.s\n",
    "        u2 = \"%i selected facilities\" % self.p\n",
    "    units = u1 + u2\n",
    "    \n",
    "    print(\"Obj. Value:\", self.obj_val, units)\n",
    "    \n",
    "    if self.name == \"pmp\":\n",
    "        print(\"Mean weighted distance per\", \"person: %f\" % self.mean_dist)\n",
    "    if self.name == \"mclp\":\n",
    "        print(\n",
    "            \"Percent of %i\" % self.ai_sum, \"clients covered: %f\" % self.perc_served\n",
    "        )\n",
    "    \n",
    "    # coverage values\n",
    "    if self.name == \"lscp\" or self.name == \"mclp\":\n",
    "        for ncov, ncli in self.ncov2ncli.items():\n",
    "            if ncov == 0:\n",
    "                print(\"--- %i clients are not covered\" % ncli)\n",
    "            else:\n",
    "                if ncov == 1:\n",
    "                sp = \"y\"\n",
    "            else:\n",
    "                sp = \"ies\"\n",
    "            print(\n",
    "                \"--- %i clients are covered\" % ncli,\n",
    "                \"by %i\" % ncov,\n",
    "                \"facilit\" + sp,\n",
    "            )"
   ]
  },
  {
   "cell_type": "code",
   "execution_count": null,
   "metadata": {},
   "outputs": [],
   "source": [
    "def add_results(model, cli_df, fac_df, print_solution=False):\n",
    "    col_name = model.name + \"_sol\"\n",
    "    fillers = [[cli_df, \"cli2fac\"], [fac_df, \"fac2cli\"]]\n",
    "    for df, attr in fillers:\n",
    "        df[col_name] = df[\"dv\"].map(getattr(model, attr))\n",
    "        df[col_name].fillna(\"closed\", inplace=True)\n",
    "    if print_solution:\n",
    "        selected = fac_df[fac_df[col_name] != \"closed\"]\n",
    "        for idx in selected.index:\n",
    "            print(\"\")\n",
    "            print(selected.loc[idx, \"dv\"], \"serving:\", selected.loc[idx, col_name])\n",
    "        return cli_df, fac_df"
   ]
  },
  {
   "cell_type": "code",
   "execution_count": null,
   "metadata": {},
   "outputs": [],
   "source": [
    "def plotter(\n",
    "    fig=None,\n",
    "    base=None,\n",
    "    plot_aux=None,\n",
    "    buffered=None,\n",
    "    model=None,\n",
    "    pt1_size=None,\n",
    "    pt2_size=None,\n",
    "    plot_res=None,\n",
    "    save_fig=False,\n",
    "    title=None,\n",
    "    figsize=(10, 10),\n",
    "):\n",
    "    for_multiplot = True\n",
    "    if not fig and not base:\n",
    "        for_multiplot = False\n",
    "        fig, base = plt.subplots(1, 1, figsize=figsize)\n",
    "    if not for_multiplot:\n",
    "        if model:\n",
    "            title += \" - \" + model.name\n",
    "            base.set_title(title, size=20)\n",
    "        else:\n",
    "            base.set_title(model.name, size=20)\n",
    "        if plot_aux:\n",
    "            for k, df in plot_aux.items():\n",
    "                if k == \"streets\":\n",
    "                    df.plot(ax=base, lw=2, edgecolor=\"k\", zorder=1,color='dimgray')\n",
    "                if k == \"buffer\":\n",
    "                    df.plot(ax=base, facecolor=\"y\", lw=0.25, alpha=0.25, zorder=1)\n",
    "                if k == \"cli_tru\":\n",
    "                    if plot_res:\n",
    "                        df = df[df[model.name + \"_sol\"] == \"closed\"]\n",
    "                        psize = pt2_size / 6.0\n",
    "                        pcolor = \"k\"\n",
    "                else:\n",
    "                    n_cli = df.shape[0]\n",
    "                    psize = pt1_size\n",
    "                    pcolor = \"r\"\n",
    "                df.plot(ax=base, markersize=psize, edgecolor=\"k\", facecolor=pcolor)\n",
    "            if k == \"fac_tru\":\n",
    "                if plot_res:\n",
    "                    df = df[df[model.name + \"_sol\"] == \"closed\"]\n",
    "                    psize = pt2_size\n",
    "                    pcolor = \"k\"\n",
    "                    pmarker = \"*\"\n",
    "                else:\n",
    "                    n_cli = df.shape[0]\n",
    "                    psize = pt1_size\n",
    "                    pcolor = \"b\"\n",
    "                    pmarker = \"o\"\n",
    "                df.plot(\n",
    "                    ax=base,\n",
    "                    markersize=psize,\n",
    "                    edgecolor=\"k\",\n",
    "                    facecolor=pcolor,\n",
    "                    marker=pmarker,\n",
    "                )\n",
    "                n_fac = df.shape[0]\n",
    "            if k == \"cli_snp\":\n",
    "                df.plot(\n",
    "                    ax=base,\n",
    "                    markersize=pt2_size,\n",
    "                    edgecolor=\"k\",\n",
    "                    facecolor=\"r\",\n",
    "                    alpha=0.75,\n",
    "                )\n",
    "if k == \"fac_snp\":\n",
    "    df.plot(\n",
    "ax=base,\n",
    "markersize=pt2_size,\n",
    "edgecolor=\"k\",\n",
    "facecolor=\"b\",\n",
    "alpha=0.75,\n",
    ")\n",
    "add_to_legend = list(plot_aux.keys())\n",
    "else:\n",
    "add_to_legend = None\n",
    "# plot results data\n",
    "if plot_res:\n",
    "dv_colors = dv_colorset(plot_res[\"fac_var\"].dv)\n",
    "# facilities\n",
    "df = plot_res[\"fac_var\"][plot_res[\"fac_var\"][model.name + \"_sol\"] != \"closed\"]\n",
    "alpha = 1.0 / float(len(df.dv))\n",
    "if alpha > 0.5:\n",
    "alpha = 0.5\n",
    "# decision variable info for legend\n",
    "dvs_to_leg = {}\n",
    "# plot facilities\n",
    "for dv in df.dv:\n",
    "fac = df[df.dv == dv]\n",
    "fac.plot(\n",
    "ax=base,\n",
    "marker=\"*\",\n",
    "markersize=pt1_size * 3.0,\n",
    "alpha=0.8,\n",
    "zorder=3,\n",
    "edgecolor=\"k\",\n",
    "facecolor=dv_colors[dv],\n",
    ")\n",
    "# update decision variable info with set color\n",
    "dvs_to_leg[dv] = {\"facecolor\": dv_colors[dv]}\n",
    "# plot clients & service areas\n",
    "for f, c in model.fac2cli.items():\n",
    "fc = plot_res[\"cli_var\"][plot_res[\"cli_var\"].dv.isin(c)]\n",
    "fc.plot\n",
    "\n",
    "ax=base,\n",
    "markersize=50,\n",
    "edgecolor=\"k\",\n",
    "facecolor=dv_colors[f],\n",
    "alpha=alpha,\n",
    "zorder=2,\n",
    ")\n",
    "# update decision variable info with set client counts\n",
    "dvs_to_leg[f].update({\"clients\": fc.shape[0]})\n",
    "# create service area polygon\n",
    "service_area = concave_hull(df, fc, f)\n",
    "service_area.plot(\n",
    "ax=base, edgecolor=\"k\", alpha=0.2, facecolor=dv_colors[f], zorder=1\n",
    ")\n",
    "else:\n",
    "dvs_to_leg = None\n",
    "if not model:\n",
    "class _ShellModel:\n",
    "def __init__(self, plot_aux):\n",
    "try:\n",
    "self.n_cli = plot_aux[\"cli_tru\"].shape[0]\n",
    "try:\n",
    "self.n_fac = plot_aux[\"fac_tru\"].shape[0]\n",
    "except KeyError:\n",
    "pass\n",
    "except KeyError:\n",
    "pass\n",
    "try:\n",
    "model = _ShellModel(plot_aux)\n",
    "except (TypeError, KeyError):\n",
    "model = None\n",
    "if not for_multiplot:\n",
    "# create legend patches\n",
    "patches = create_patches(\n",
    "model=model,\n",
    "for_multiplot=for_multiplot,\n",
    "pt1_size=pt1_size,\n",
    "pt2_size=pt2_size,\n",
    "buffered=buffered,\n",
    "\n",
    "legend_aux=add_to_legend,\n",
    "dvs_to_leg=dvs_to_leg,\n",
    ")\n",
    "add_legend(patches, for_multiplot=for_multiplot)\n",
    "add_north_arrow(base)\n",
    "add_scale(base)\n",
    "if save_fig:\n",
    "plt.savefig(model.name + \".png\")\n",
    "# if for a multiplot explicityly return items to add to legend\n",
    "if for_multiplot:\n",
    "return add_to_legend"
   ]
  }
 ],
 "metadata": {
  "kernelspec": {
   "display_name": "Python 3.8.13 ('conda38')",
   "language": "python",
   "name": "python3"
  },
  "language_info": {
   "codemirror_mode": {
    "name": "ipython",
    "version": 3
   },
   "file_extension": ".py",
   "mimetype": "text/x-python",
   "name": "python",
   "nbconvert_exporter": "python",
   "pygments_lexer": "ipython3",
   "version": "3.8.13"
  },
  "orig_nbformat": 4,
  "vscode": {
   "interpreter": {
    "hash": "3a909b764e5297ab7243911d79b34f3ad584c453baa3fb8c1fea8bd611715306"
   }
  }
 },
 "nbformat": 4,
 "nbformat_minor": 2
}
