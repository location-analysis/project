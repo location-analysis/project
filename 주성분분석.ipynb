{
 "cells": [
  {
   "cell_type": "code",
   "execution_count": 1,
   "metadata": {},
   "outputs": [],
   "source": [
    "import pandas as pd"
   ]
  },
  {
   "cell_type": "code",
   "execution_count": 3,
   "metadata": {},
   "outputs": [
    {
     "data": {
      "text/html": [
       "<div>\n",
       "<style scoped>\n",
       "    .dataframe tbody tr th:only-of-type {\n",
       "        vertical-align: middle;\n",
       "    }\n",
       "\n",
       "    .dataframe tbody tr th {\n",
       "        vertical-align: top;\n",
       "    }\n",
       "\n",
       "    .dataframe thead th {\n",
       "        text-align: right;\n",
       "    }\n",
       "</style>\n",
       "<table border=\"1\" class=\"dataframe\">\n",
       "  <thead>\n",
       "    <tr style=\"text-align: right;\">\n",
       "      <th></th>\n",
       "      <th>행정구역</th>\n",
       "      <th>버스정류소 수</th>\n",
       "      <th>총 인구</th>\n",
       "      <th>주차장 수</th>\n",
       "      <th>자전거 수</th>\n",
       "      <th>보관대 수</th>\n",
       "      <th>대학생 수</th>\n",
       "      <th>면적</th>\n",
       "      <th>인구밀도</th>\n",
       "    </tr>\n",
       "  </thead>\n",
       "  <tbody>\n",
       "    <tr>\n",
       "      <th>0</th>\n",
       "      <td>남구</td>\n",
       "      <td>160</td>\n",
       "      <td>143175</td>\n",
       "      <td>2</td>\n",
       "      <td>17</td>\n",
       "      <td>4</td>\n",
       "      <td>9523</td>\n",
       "      <td>17</td>\n",
       "      <td>8422</td>\n",
       "    </tr>\n",
       "    <tr>\n",
       "      <th>1</th>\n",
       "      <td>달서구</td>\n",
       "      <td>561</td>\n",
       "      <td>544926</td>\n",
       "      <td>17</td>\n",
       "      <td>84</td>\n",
       "      <td>24</td>\n",
       "      <td>39597</td>\n",
       "      <td>62</td>\n",
       "      <td>8789</td>\n",
       "    </tr>\n",
       "    <tr>\n",
       "      <th>2</th>\n",
       "      <td>달성군</td>\n",
       "      <td>693</td>\n",
       "      <td>262451</td>\n",
       "      <td>0</td>\n",
       "      <td>30</td>\n",
       "      <td>5</td>\n",
       "      <td>13562</td>\n",
       "      <td>426</td>\n",
       "      <td>616</td>\n",
       "    </tr>\n",
       "    <tr>\n",
       "      <th>3</th>\n",
       "      <td>동구</td>\n",
       "      <td>583</td>\n",
       "      <td>341436</td>\n",
       "      <td>16</td>\n",
       "      <td>91</td>\n",
       "      <td>18</td>\n",
       "      <td>18307</td>\n",
       "      <td>182</td>\n",
       "      <td>1876</td>\n",
       "    </tr>\n",
       "    <tr>\n",
       "      <th>4</th>\n",
       "      <td>북구</td>\n",
       "      <td>588</td>\n",
       "      <td>437008</td>\n",
       "      <td>30</td>\n",
       "      <td>18</td>\n",
       "      <td>3</td>\n",
       "      <td>32156</td>\n",
       "      <td>93</td>\n",
       "      <td>4699</td>\n",
       "    </tr>\n",
       "    <tr>\n",
       "      <th>5</th>\n",
       "      <td>서구</td>\n",
       "      <td>190</td>\n",
       "      <td>164528</td>\n",
       "      <td>5</td>\n",
       "      <td>0</td>\n",
       "      <td>0</td>\n",
       "      <td>9699</td>\n",
       "      <td>62</td>\n",
       "      <td>2653</td>\n",
       "    </tr>\n",
       "    <tr>\n",
       "      <th>6</th>\n",
       "      <td>수성구</td>\n",
       "      <td>418</td>\n",
       "      <td>417097</td>\n",
       "      <td>10</td>\n",
       "      <td>40</td>\n",
       "      <td>13</td>\n",
       "      <td>27436</td>\n",
       "      <td>76</td>\n",
       "      <td>5488</td>\n",
       "    </tr>\n",
       "    <tr>\n",
       "      <th>7</th>\n",
       "      <td>중구</td>\n",
       "      <td>118</td>\n",
       "      <td>74791</td>\n",
       "      <td>6</td>\n",
       "      <td>17</td>\n",
       "      <td>2</td>\n",
       "      <td>4718</td>\n",
       "      <td>7</td>\n",
       "      <td>10684</td>\n",
       "    </tr>\n",
       "  </tbody>\n",
       "</table>\n",
       "</div>"
      ],
      "text/plain": [
       "  행정구역  버스정류소 수    총 인구  주차장 수  자전거 수  보관대 수  대학생 수   면적   인구밀도\n",
       "0   남구      160  143175      2     17      4   9523   17   8422\n",
       "1  달서구      561  544926     17     84     24  39597   62   8789\n",
       "2  달성군      693  262451      0     30      5  13562  426    616\n",
       "3   동구      583  341436     16     91     18  18307  182   1876\n",
       "4   북구      588  437008     30     18      3  32156   93   4699\n",
       "5   서구      190  164528      5      0      0   9699   62   2653\n",
       "6  수성구      418  417097     10     40     13  27436   76   5488\n",
       "7   중구      118   74791      6     17      2   4718    7  10684"
      ]
     },
     "execution_count": 3,
     "metadata": {},
     "output_type": "execute_result"
    }
   ],
   "source": [
    "abc = pd.read_csv('data/final_data.csv',encoding='cp949')\n",
    "abc"
   ]
  },
  {
   "cell_type": "code",
   "execution_count": 7,
   "metadata": {},
   "outputs": [],
   "source": [
    "import pandas as pd\n",
    "import numpy as np\n",
    "from sklearn import datasets\n",
    "import matplotlib.pyplot as plt\n",
    "from sklearn.preprocessing import StandardScaler"
   ]
  },
  {
   "cell_type": "code",
   "execution_count": 4,
   "metadata": {},
   "outputs": [
    {
     "data": {
      "text/plain": [
       "Index(['행정구역', '버스정류소 수', '총 인구', '주차장 수', '자전거 수', '보관대 수', '대학생 수', '면적',\n",
       "       '인구밀도'],\n",
       "      dtype='object')"
      ]
     },
     "execution_count": 4,
     "metadata": {},
     "output_type": "execute_result"
    }
   ],
   "source": [
    "abc.columns"
   ]
  },
  {
   "cell_type": "code",
   "execution_count": 6,
   "metadata": {},
   "outputs": [],
   "source": [
    "# 1. 데이터 분리\n",
    "lamenEval = abc[['버스정류소 수', '총 인구', '주차장 수', '자전거 수', '보관대 수', '대학생 수', '면적','인구밀도']]\n",
    "lamenName = abc['행정구역']"
   ]
  },
  {
   "cell_type": "code",
   "execution_count": 8,
   "metadata": {},
   "outputs": [
    {
     "data": {
      "text/plain": [
       "(8, 8)"
      ]
     },
     "execution_count": 8,
     "metadata": {},
     "output_type": "execute_result"
    }
   ],
   "source": [
    "# 2. 스케일러로 값 변환\n",
    "# scaling using StandardScaler\n",
    "\n",
    "scaler = StandardScaler()\n",
    "scaler.fit(lamenEval.values)\n",
    "lamen_scaled = scaler.transform(lamenEval.values)\n",
    "\n",
    "lamen_scaled.shape\n",
    "# (8,8)"
   ]
  },
  {
   "cell_type": "code",
   "execution_count": 9,
   "metadata": {},
   "outputs": [
    {
     "name": "stdout",
     "output_type": "stream",
     "text": [
      "original data : (8, 8)\n",
      "transform data : (8, 8)\n"
     ]
    }
   ],
   "source": [
    "# 3. PCA 모델링\n",
    "# - PCA.fit() : 주성분 찾음\n",
    "# - PCA.transform() : 새로운 주성분으로 데이터 변환\n",
    "\n",
    "# PCA modelling \n",
    "from sklearn.decomposition import PCA\n",
    "\n",
    "pca_lamen = PCA()\n",
    "pca_lamen.fit(lamen_scaled)\n",
    "\n",
    "# data transform\n",
    "X_pca_lamen = pca_lamen.transform(lamen_scaled)\n",
    "\n",
    "# look into data shape\n",
    "print(\"original data : {}\".format(str(lamen_scaled.shape)))\n",
    "print(\"transform data : {}\".format(str(X_pca_lamen.shape)))\n",
    "\n",
    "# original data : (8, 8)  transform data : (8, 8)"
   ]
  },
  {
   "cell_type": "code",
   "execution_count": 11,
   "metadata": {},
   "outputs": [
    {
     "name": "stderr",
     "output_type": "stream",
     "text": [
      "C:\\Users\\dkq50\\AppData\\Local\\Temp\\ipykernel_24488\\725437716.py:15: DeprecationWarning: elementwise comparison failed; this will raise an error in the future.\n",
      "  np.round(np.hstack((pc1,pc2,pc3)),3) == np.round(X_pca_lamen,3)\n"
     ]
    },
    {
     "data": {
      "text/plain": [
       "False"
      ]
     },
     "execution_count": 11,
     "metadata": {},
     "output_type": "execute_result"
    }
   ],
   "source": [
    "# PCA 1,2,3 에 대한 변환 스코어\n",
    "pc1=0\n",
    "pc2=0\n",
    "pc3=0\n",
    "\n",
    "for j in range(len(pca_lamen.components_)):\n",
    "    pc1 += pca_lamen.components_[0][j] * lamen_scaled[:,j] # 계수 3개에 있어서 스케일된 모든 열을 다 곱하고 더한 것 = pc1\n",
    "    pc2 += pca_lamen.components_[1][j] * lamen_scaled[:,j]\n",
    "    pc3 += pca_lamen.components_[2][j] * lamen_scaled[:,j]\n",
    "    \n",
    "pc1 = pc1.reshape(8,1)\n",
    "pc2 = pc2.reshape(8,1)\n",
    "pc3 = pc3.reshape(8,1)\n",
    "\n",
    "np.round(np.hstack((pc1,pc2,pc3)),3) == np.round(X_pca_lamen,3)"
   ]
  },
  {
   "cell_type": "code",
   "execution_count": 12,
   "metadata": {},
   "outputs": [
    {
     "name": "stderr",
     "output_type": "stream",
     "text": [
      "c:\\Users\\dkq50\\anaconda3\\envs\\conda38\\lib\\site-packages\\IPython\\core\\pylabtools.py:151: UserWarning: Glyph 8722 (\\N{MINUS SIGN}) missing from current font.\n",
      "  fig.canvas.print_figure(bytes_io, **kw)\n"
     ]
    },
    {
     "data": {
      "image/png": "[encoded data removed]",
      "text/plain": [
       "<Figure size 432x288 with 1 Axes>"
      ]
     },
     "metadata": {
      "needs_background": "light"
     },
     "output_type": "display_data"
    }
   ],
   "source": [
    "def biplot2(score, coeff, label, pcax, pcay, labels = None):\n",
    "    pca1=pcax-1\n",
    "    pca2=pcay-1\n",
    "    xs = score[:,pca1]\n",
    "    ys = score[:,pca2]\n",
    "    n=score.shape[1]\n",
    "    scalex = 1.0/(xs.max() - xs.min())\n",
    "    scaley = 1.0/(ys.max() - ys.min())\n",
    "    \n",
    "    for i in range(len(xs)):\n",
    "        plt.scatter(xs[i]*scalex, ys[i]*scaley)\n",
    "        plt.annotate(label.iloc[i], xy=(xs[i]*scalex, ys[i]*scaley), ha='right')\n",
    "        \n",
    "    for i in range(n):\n",
    "        plt.arrow(0, 0, coeff[i,pca1], coeff[i,pca2], color='r', alpha=1)\n",
    "        if labels is None:\n",
    "            plt.text(coeff[i,pca1]*1.15, coeff[i,pca2]*1.15, \"Var\"+str(i+1), color='g', ha = 'center', va='center')\n",
    "        else:\n",
    "            plt.text(coeff[i,pca1]*1.15, coeff[i,pca2]*1.15, labels[i], color='g', ha='center', va='center', size=15)\n",
    "    plt.xlim(-0.8, 0.75)\n",
    "    plt.ylim(-1,1)\n",
    "    plt.xlabel(\"PC{}\".format(pcax))\n",
    "    plt.ylabel(\"PC{}\".format(pcay))\n",
    "    plt.grid()\n",
    "       \n",
    "##한글 폰트 설정\n",
    "import matplotlib.pyplot as plt\n",
    "import matplotlib.font_manager as fm\n",
    "\n",
    "font_path=\"C:\\\\Windows\\\\Fonts\\\\malgun.ttf\"\n",
    "font_name=fm.FontProperties(fname=font_path).get_name()\n",
    "plt.rcParams['font.family']=font_name\n",
    "\n",
    "%matplotlib inline\n",
    "biplot2(X_pca_lamen, pca_lamen.components_, lamenName, 1,2,labels=lamenEval.columns)"
   ]
  }
 ],
 "metadata": {
  "kernelspec": {
   "display_name": "Python 3.8.13 ('conda38')",
   "language": "python",
   "name": "python3"
  },
  "language_info": {
   "codemirror_mode": {
    "name": "ipython",
    "version": 3
   },
   "file_extension": ".py",
   "mimetype": "text/x-python",
   "name": "python",
   "nbconvert_exporter": "python",
   "pygments_lexer": "ipython3",
   "version": "3.8.13"
  },
  "orig_nbformat": 4,
  "vscode": {
   "interpreter": {
    "hash": "3a909b764e5297ab7243911d79b34f3ad584c453baa3fb8c1fea8bd611715306"
   }
  }
 },
 "nbformat": 4,
 "nbformat_minor": 2
}
